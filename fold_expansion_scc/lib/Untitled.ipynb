{
 "cells": [
  {
   "cell_type": "code",
   "execution_count": 1,
   "id": "preliminary-ordinary",
   "metadata": {},
   "outputs": [],
   "source": [
    "import glob\n",
    "import subprocess as sb\n",
    "\n",
    "def make_qsub(job_name,pythonScript,out_id):\n",
    "    out_string = f\"\"\"#!/bin/bash -l\n",
    "# Set SCC project\n",
    "#$ -P bioinfor\n",
    "\n",
    "# Specify hard time limit for the job. \n",
    "#   The job will be aborted if it runs longer than this time.\n",
    "#   The default time, also selected here, is 12 hours.  You can increase this up to 720:00:00 for single processor jobs but your job will take longer to start.\n",
    "#$ -l h_rt=12:00:00\n",
    "\n",
    "# Send an email when the job finishes or if it is aborted (by default no email is sent).\n",
    "#$ -m ea\n",
    "\n",
    "# Give job a name\n",
    "#$ -N {job_name}\n",
    "\n",
    "# Combine output and error files into a single file\n",
    "#$ -j y\n",
    "\n",
    "module load miniconda\n",
    "conda activate network_expansion\n",
    "\n",
    "\"\"\"\n",
    "\n",
    "    python_call = 'python ' + pythonScript + ' -s ' + out_id ;\n",
    "    out_string = out_string + python_call\n",
    "    return out_string\n"
   ]
  },
  {
   "cell_type": "code",
   "execution_count": null,
   "id": "toxic-arrangement",
   "metadata": {},
   "outputs": [],
   "source": [
    "\n",
    "python_call = '/projectnb2/bioinfor/SEGRE/goldford/network_expansion/networkExpansionPy/fold_expansion_scc/lib/run_fold_expansion.py'\n",
    "qsub_dir = \"/projectnb2/bioinfor/SEGRE/goldford/network_expansion/networkExpansionPy/fold_expansion_scc/qsub/\"\n",
    "\n",
    "numJobs = 10\n",
    "for i in range(numJobs):\n",
    "    sid = 's' + str(i)\n",
    "    job_name = \"Fold Expansion: \" + sid\n",
    "    qsub_call = make_qsub(job_name,python_call,sid)\n",
    "    sh_file = qsub_dir + 'foldExpansion.randOrder.' +  sid + '.qsub'\n",
    "    with open(sh_file,'w') as f:\n",
    "        f.write(qsub_call)\n",
    "        \n",
    "    # call qsub file to submit job\n",
    "    sb.call('qsub ' + sh_file,shell=True)"
   ]
  }
 ],
 "metadata": {
  "kernelspec": {
   "display_name": "Python (network_expansion3)",
   "language": "python",
   "name": "network_expansion3"
  },
  "language_info": {
   "codemirror_mode": {
    "name": "ipython",
    "version": 3
   },
   "file_extension": ".py",
   "mimetype": "text/x-python",
   "name": "python",
   "nbconvert_exporter": "python",
   "pygments_lexer": "ipython3",
   "version": "3.8.5"
  }
 },
 "nbformat": 4,
 "nbformat_minor": 5
}
