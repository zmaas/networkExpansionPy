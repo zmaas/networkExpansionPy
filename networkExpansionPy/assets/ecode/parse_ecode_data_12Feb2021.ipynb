{
 "cells": [
  {
   "cell_type": "code",
   "execution_count": 2,
   "metadata": {},
   "outputs": [],
   "source": [
    "import pandas as pd\n",
    "import requests"
   ]
  },
  {
   "cell_type": "code",
   "execution_count": 3,
   "metadata": {},
   "outputs": [],
   "source": [
    "# define function to get kegg data linking EC to reactions\n",
    "def get_ec_rn_map():\n",
    "    url = 'http://rest.kegg.jp/link/rn/ec'\n",
    "    r = requests.get(url)\n",
    "    g = pd.DataFrame([x.split('\\t') for x in r.text.split('\\n')],columns=['ec','rn'])\n",
    "    g = g.iloc[0:-1]\n",
    "    g['ec'] = g['ec'].apply(lambda x: x.split(':')[1])\n",
    "    g['rn'] = g['rn'].apply(lambda x: x.split(':')[1])\n",
    "    return g\n",
    "\n",
    "# rad in ecode2ec (Liam's parsed file)\n",
    "#df = pd.read_csv('ecod2ec.txt',sep=' ',header=None)\n",
    "df = pd.read_csv('ecod2ec_3Feb2021.txt',sep=' ',header=None)\n",
    "df.columns = ['rule','ec']\n",
    "\n",
    "# collapse data to skinny format\n",
    "dfs = [];\n",
    "for idx,row in df.iterrows():\n",
    "    ec_nums = row.ec.split('|');\n",
    "    dfs.append(pd.DataFrame({'rule': row.rule, 'ec': ec_nums}))\n",
    "df = pd.concat(dfs,axis=0)\n",
    "\n",
    "\n",
    "# download KEGG reaction mapping\n",
    "ecrn = get_ec_rn_map()\n"
   ]
  },
  {
   "cell_type": "code",
   "execution_count": 5,
   "metadata": {},
   "outputs": [],
   "source": [
    "\n",
    "# subset data, such that the EC case to be define for the first 3 digits to be a valid rule\n",
    "dff = df[~df['ec'].apply(lambda x: x.split('.')[-1] == '-')]\n",
    "# remove PDB chain not observed:\n",
    "dff = dff[~dff['rule'].isin(['PDBChainNotFound'])]"
   ]
  },
  {
   "cell_type": "code",
   "execution_count": 9,
   "metadata": {},
   "outputs": [],
   "source": [
    "rules = dff.set_index('ec')[['rule']].join(ecrn.set_index('ec')[['rn']]).dropna().drop_duplicates()"
   ]
  },
  {
   "cell_type": "code",
   "execution_count": 10,
   "metadata": {},
   "outputs": [
    {
     "data": {
      "text/html": [
       "<div>\n",
       "<style scoped>\n",
       "    .dataframe tbody tr th:only-of-type {\n",
       "        vertical-align: middle;\n",
       "    }\n",
       "\n",
       "    .dataframe tbody tr th {\n",
       "        vertical-align: top;\n",
       "    }\n",
       "\n",
       "    .dataframe thead th {\n",
       "        text-align: right;\n",
       "    }\n",
       "</style>\n",
       "<table border=\"1\" class=\"dataframe\">\n",
       "  <thead>\n",
       "    <tr style=\"text-align: right;\">\n",
       "      <th></th>\n",
       "      <th>rule</th>\n",
       "      <th>rn</th>\n",
       "    </tr>\n",
       "    <tr>\n",
       "      <th>ec</th>\n",
       "      <th></th>\n",
       "      <th></th>\n",
       "    </tr>\n",
       "  </thead>\n",
       "  <tbody>\n",
       "    <tr>\n",
       "      <th>1.1.1.1</th>\n",
       "      <td>2007_4002</td>\n",
       "      <td>R07105</td>\n",
       "    </tr>\n",
       "    <tr>\n",
       "      <th>1.1.1.1</th>\n",
       "      <td>2007_4002</td>\n",
       "      <td>R00623</td>\n",
       "    </tr>\n",
       "    <tr>\n",
       "      <th>1.1.1.1</th>\n",
       "      <td>2007_4002</td>\n",
       "      <td>R00754</td>\n",
       "    </tr>\n",
       "    <tr>\n",
       "      <th>1.1.1.1</th>\n",
       "      <td>2007_4002</td>\n",
       "      <td>R02124</td>\n",
       "    </tr>\n",
       "    <tr>\n",
       "      <th>1.1.1.1</th>\n",
       "      <td>2007_4002</td>\n",
       "      <td>R02878</td>\n",
       "    </tr>\n",
       "    <tr>\n",
       "      <th>...</th>\n",
       "      <td>...</td>\n",
       "      <td>...</td>\n",
       "    </tr>\n",
       "    <tr>\n",
       "      <th>7.1.1.9</th>\n",
       "      <td>3156_5011_5038_5040</td>\n",
       "      <td>R00082</td>\n",
       "    </tr>\n",
       "    <tr>\n",
       "      <th>7.1.1.9</th>\n",
       "      <td>3156_5011_5038_5040</td>\n",
       "      <td>R00081</td>\n",
       "    </tr>\n",
       "    <tr>\n",
       "      <th>7.2.1.3</th>\n",
       "      <td>5069</td>\n",
       "      <td>R09739</td>\n",
       "    </tr>\n",
       "    <tr>\n",
       "      <th>7.2.4.5</th>\n",
       "      <td>2486</td>\n",
       "      <td>R03028</td>\n",
       "    </tr>\n",
       "    <tr>\n",
       "      <th>7.3.2.6</th>\n",
       "      <td>2004</td>\n",
       "      <td>R10531</td>\n",
       "    </tr>\n",
       "  </tbody>\n",
       "</table>\n",
       "<p>12361 rows × 2 columns</p>\n",
       "</div>"
      ],
      "text/plain": [
       "                        rule      rn\n",
       "ec                                  \n",
       "1.1.1.1            2007_4002  R07105\n",
       "1.1.1.1            2007_4002  R00623\n",
       "1.1.1.1            2007_4002  R00754\n",
       "1.1.1.1            2007_4002  R02124\n",
       "1.1.1.1            2007_4002  R02878\n",
       "...                      ...     ...\n",
       "7.1.1.9  3156_5011_5038_5040  R00082\n",
       "7.1.1.9  3156_5011_5038_5040  R00081\n",
       "7.2.1.3                 5069  R09739\n",
       "7.2.4.5                 2486  R03028\n",
       "7.3.2.6                 2004  R10531\n",
       "\n",
       "[12361 rows x 2 columns]"
      ]
     },
     "execution_count": 10,
     "metadata": {},
     "output_type": "execute_result"
    }
   ],
   "source": [
    "rules"
   ]
  },
  {
   "cell_type": "code",
   "execution_count": null,
   "metadata": {},
   "outputs": [],
   "source": [
    "\n",
    "# subset data, such that the EC case to be define for the first 3 digits to be a valid rule\n",
    "dff = df[~df['ec'].apply(lambda x: x.split('.')[-2] == '-')]\n",
    "# remove PDB chain not observed:\n",
    "dff = dff[~dff['rule'].isin(['PDBChainNotFound'])]\n",
    "\n",
    "# define 3 letter code for both mappings\n",
    "dff['ec_3l'] = dff['ec'].apply(lambda x: \".\".join(x.split('.')[0:3]))\n",
    "ecrn['ec_3l'] = ecrn['ec'].apply(lambda x: \".\".join(x.split('.')[0:3]))\n"
   ]
  },
  {
   "cell_type": "code",
   "execution_count": 11,
   "metadata": {},
   "outputs": [],
   "source": [
    "# join both tables and keep unique Ecode to KEGG reaction rules\n",
    "rules = dff.set_index('ec_3l')[['rule']].join(ecrn.set_index('ec_3l')[['rn']]).dropna().drop_duplicates()"
   ]
  },
  {
   "cell_type": "code",
   "execution_count": 13,
   "metadata": {},
   "outputs": [],
   "source": [
    "rules.to_csv('ecod2rn.ec3.07Feb2021.csv')"
   ]
  },
  {
   "cell_type": "code",
   "execution_count": null,
   "metadata": {},
   "outputs": [],
   "source": []
  }
 ],
 "metadata": {
  "kernelspec": {
   "display_name": "Python (network expansion)",
   "language": "python",
   "name": "network_expansion"
  },
  "language_info": {
   "codemirror_mode": {
    "name": "ipython",
    "version": 3
   },
   "file_extension": ".py",
   "mimetype": "text/x-python",
   "name": "python",
   "nbconvert_exporter": "python",
   "pygments_lexer": "ipython3",
   "version": "3.8.5"
  }
 },
 "nbformat": 4,
 "nbformat_minor": 4
}
