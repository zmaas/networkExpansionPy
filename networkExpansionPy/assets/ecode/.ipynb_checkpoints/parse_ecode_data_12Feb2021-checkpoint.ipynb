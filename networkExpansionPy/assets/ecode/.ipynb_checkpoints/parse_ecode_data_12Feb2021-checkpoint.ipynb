{
 "cells": [
  {
   "cell_type": "code",
   "execution_count": 1,
   "metadata": {},
   "outputs": [],
   "source": [
    "import pandas as pd\n",
    "import requests"
   ]
  },
  {
   "cell_type": "code",
   "execution_count": 10,
   "metadata": {},
   "outputs": [],
   "source": [
    "# define function to get kegg data linking EC to reactions\n",
    "def get_ec_rn_map():\n",
    "    url = 'http://rest.kegg.jp/link/rn/ec'\n",
    "    r = requests.get(url)\n",
    "    g = pd.DataFrame([x.split('\\t') for x in r.text.split('\\n')],columns=['ec','rn'])\n",
    "    g = g.iloc[0:-1]\n",
    "    g['ec'] = g['ec'].apply(lambda x: x.split(':')[1])\n",
    "    g['rn'] = g['rn'].apply(lambda x: x.split(':')[1])\n",
    "    return g\n",
    "\n",
    "# rad in ecode2ec (Liam's parsed file)\n",
    "#df = pd.read_csv('ecod2ec.txt',sep=' ',header=None)\n",
    "df = pd.read_csv('ecod2ec_3Feb2021.txt',sep=' ',header=None)\n",
    "df.columns = ['rule','ec']\n",
    "\n",
    "# collapse data to skinny format\n",
    "dfs = [];\n",
    "for idx,row in df.iterrows():\n",
    "    ec_nums = row.ec.split('|');\n",
    "    dfs.append(pd.DataFrame({'rule': row.rule, 'ec': ec_nums}))\n",
    "df = pd.concat(dfs,axis=0)\n",
    "\n",
    "\n",
    "# download KEGG reaction mapping\n",
    "ecrn = get_ec_rn_map()\n",
    "\n",
    "# subset data, such that the EC case to be define for the first 3 digits to be a valid rule\n",
    "dff = df[~df['ec'].apply(lambda x: x.split('.')[-2] == '-')]\n",
    "# remove PDB chain not observed:\n",
    "dff = dff[~dff['rule'].isin(['PDBChainNotFound'])]\n",
    "\n",
    "# define 3 letter code for both mappings\n",
    "dff['ec_3l'] = dff['ec'].apply(lambda x: \".\".join(x.split('.')[0:3]))\n",
    "ecrn['ec_3l'] = ecrn['ec'].apply(lambda x: \".\".join(x.split('.')[0:3]))\n"
   ]
  },
  {
   "cell_type": "code",
   "execution_count": 11,
   "metadata": {},
   "outputs": [],
   "source": [
    "# join both tables and keep unique Ecode to KEGG reaction rules\n",
    "rules = dff.set_index('ec_3l')[['rule']].join(ecrn.set_index('ec_3l')[['rn']]).dropna().drop_duplicates()"
   ]
  },
  {
   "cell_type": "code",
   "execution_count": 13,
   "metadata": {},
   "outputs": [],
   "source": [
    "rules.to_csv('ecod2rn.ec3.07Feb2021.csv')"
   ]
  },
  {
   "cell_type": "code",
   "execution_count": null,
   "metadata": {},
   "outputs": [],
   "source": []
  }
 ],
 "metadata": {
  "kernelspec": {
   "display_name": "Python (informatics3)",
   "language": "python",
   "name": "informatics3"
  },
  "language_info": {
   "codemirror_mode": {
    "name": "ipython",
    "version": 3
   },
   "file_extension": ".py",
   "mimetype": "text/x-python",
   "name": "python",
   "nbconvert_exporter": "python",
   "pygments_lexer": "ipython3",
   "version": "3.6.12"
  }
 },
 "nbformat": 4,
 "nbformat_minor": 4
}
