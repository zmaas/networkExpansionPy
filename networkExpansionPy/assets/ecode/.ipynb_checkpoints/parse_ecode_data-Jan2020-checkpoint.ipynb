{
 "cells": [
  {
   "cell_type": "code",
   "execution_count": 1,
   "metadata": {},
   "outputs": [],
   "source": [
    "import pandas as pd\n",
    "import requests"
   ]
  },
  {
   "cell_type": "code",
   "execution_count": 4,
   "metadata": {},
   "outputs": [
    {
     "name": "stderr",
     "output_type": "stream",
     "text": [
      "/Users/joshuagoldford/miniconda2/envs/informatics/lib/python3.6/site-packages/ipykernel_launcher.py:30: SettingWithCopyWarning: \n",
      "A value is trying to be set on a copy of a slice from a DataFrame.\n",
      "Try using .loc[row_indexer,col_indexer] = value instead\n",
      "\n",
      "See the caveats in the documentation: http://pandas.pydata.org/pandas-docs/stable/indexing.html#indexing-view-versus-copy\n"
     ]
    }
   ],
   "source": [
    "# define function to get kegg data linking EC to reactions\n",
    "def get_ec_rn_map():\n",
    "    url = 'http://rest.kegg.jp/link/rn/ec'\n",
    "    r = requests.get(url)\n",
    "    g = pd.DataFrame([x.split('\\t') for x in r.text.split('\\n')],columns=['ec','rn'])\n",
    "    g = g.iloc[0:-1]\n",
    "    g['ec'] = g['ec'].apply(lambda x: x.split(':')[1])\n",
    "    g['rn'] = g['rn'].apply(lambda x: x.split(':')[1])\n",
    "    return g\n",
    "\n",
    "# rad in ecode2ec (Liam's parsed file)\n",
    "df = pd.read_csv('ecod2ec.txt',sep=' ',header=None)\n",
    "df.columns = ['ecode','ec']\n",
    "\n",
    "# collapse data to skinny format\n",
    "dfs = [];\n",
    "for idx,row in df.iterrows():\n",
    "    ec_nums = row.ec.split(',');\n",
    "    dfs.append(pd.DataFrame({'e_code_rule': row.ecode, 'ec': ec_nums}))\n",
    "df = pd.concat(dfs,axis=0)\n",
    "\n",
    "\n",
    "# download KEGG reaction mapping\n",
    "ecrn = get_ec_rn_map()\n",
    "\n",
    "\n",
    "# subset data, such that the EC case to be define for the first 3 digits to be a valid rule\n",
    "dff = df[~df['ec'].apply(lambda x: x.split('.')[-2] == '-')]\n",
    "# define 3 letter code for both mappings\n",
    "dff['ec_3l'] = dff['ec'].apply(lambda x: \".\".join(x.split('.')[0:3]))\n",
    "ecrn['ec_3l'] = ecrn['ec'].apply(lambda x: \".\".join(x.split('.')[0:3]))\n",
    "\n",
    "\n",
    "# join both tables and keep unique Ecode to KEGG reaction rules\n",
    "rules = dff.set_index('ec_3l')[['e_code_rule']].join(ecrn.set_index('ec_3l')[['rn']]).dropna().drop_duplicates()\n",
    "\n"
   ]
  },
  {
   "cell_type": "code",
   "execution_count": 7,
   "metadata": {},
   "outputs": [],
   "source": [
    "rules = rules.reset_index()\n",
    "rules.columns = ['ec3','e_code_rule','rn']"
   ]
  },
  {
   "cell_type": "code",
   "execution_count": 12,
   "metadata": {},
   "outputs": [],
   "source": [
    "rule_dist = rules.groupby('e_code_rule').count()[['rn']].sort_values('rn')"
   ]
  },
  {
   "cell_type": "code",
   "execution_count": 21,
   "metadata": {},
   "outputs": [],
   "source": [
    "import seaborn as sns\n",
    "import numpy as np"
   ]
  },
  {
   "cell_type": "code",
   "execution_count": 22,
   "metadata": {},
   "outputs": [
    {
     "data": {
      "text/plain": [
       "<matplotlib.axes._subplots.AxesSubplot at 0x7ff461487e80>"
      ]
     },
     "execution_count": 22,
     "metadata": {},
     "output_type": "execute_result"
    },
    {
     "data": {
      "image/png": "[encoded data removed]",
      "text/plain": [
       "<Figure size 432x288 with 1 Axes>"
      ]
     },
     "metadata": {
      "needs_background": "light"
     },
     "output_type": "display_data"
    }
   ],
   "source": [
    "sns.distplot(np.log10(rule_dist['rn']))\n"
   ]
  },
  {
   "cell_type": "code",
   "execution_count": 24,
   "metadata": {},
   "outputs": [],
   "source": [
    "rules.to_csv('ecodeRules.KeggReactions.csv')"
   ]
  },
  {
   "cell_type": "code",
   "execution_count": null,
   "metadata": {},
   "outputs": [],
   "source": []
  }
 ],
 "metadata": {
  "kernelspec": {
   "display_name": "informatics",
   "language": "python",
   "name": "informatics"
  },
  "language_info": {
   "codemirror_mode": {
    "name": "ipython",
    "version": 3
   },
   "file_extension": ".py",
   "mimetype": "text/x-python",
   "name": "python",
   "nbconvert_exporter": "python",
   "pygments_lexer": "ipython3",
   "version": "3.6.2"
  }
 },
 "nbformat": 4,
 "nbformat_minor": 4
}
