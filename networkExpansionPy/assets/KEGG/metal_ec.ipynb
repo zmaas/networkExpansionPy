{
 "cells": [
  {
   "cell_type": "code",
   "execution_count": 1,
   "id": "infectious-manufacturer",
   "metadata": {},
   "outputs": [],
   "source": [
    "import pandas as pd"
   ]
  },
  {
   "cell_type": "code",
   "execution_count": 2,
   "id": "organizational-curve",
   "metadata": {},
   "outputs": [],
   "source": [
    "ec2cof = pd.read_csv('ec2cofactor.csv')"
   ]
  },
  {
   "cell_type": "code",
   "execution_count": 3,
   "id": "complete-container",
   "metadata": {},
   "outputs": [
    {
     "data": {
      "text/plain": [
       "array(['zn', 'mg', 'mn', 'co', 'ni', 'mo', 'heme', 'flavoprotein', 'cu',\n",
       "       'fe', 'fes_4Fe_4S', 'pterin', 'fes', 'w', 'tpp', 'fes_2Fe_2S',\n",
       "       'fes_3Fe_4S', 'plp', 'fes_FeFe', 'v12', 'biotin'], dtype=object)"
      ]
     },
     "execution_count": 3,
     "metadata": {},
     "output_type": "execute_result"
    }
   ],
   "source": [
    "ec2cof['cofactor'].unique()"
   ]
  },
  {
   "cell_type": "code",
   "execution_count": 4,
   "id": "understanding-attempt",
   "metadata": {},
   "outputs": [],
   "source": [
    "c = ['fe', 'fes', 'fes_4Fe_4S','fes_2Fe_2S','fes_3Fe_4S','fes_FeFe','mn']"
   ]
  },
  {
   "cell_type": "code",
   "execution_count": 5,
   "id": "greenhouse-configuration",
   "metadata": {},
   "outputs": [
    {
     "data": {
      "text/plain": [
       "3        1.1.1.41\n",
       "5        1.1.1.42\n",
       "7        1.1.1.84\n",
       "8        1.1.1.93\n",
       "15      1.1.1.267\n",
       "          ...    \n",
       "1586      5.5.1.7\n",
       "1588     5.5.1.11\n",
       "1610     6.3.4.24\n",
       "1611     6.3.4.24\n",
       "1617      6.4.1.1\n",
       "Name: ec, Length: 549, dtype: object"
      ]
     },
     "execution_count": 5,
     "metadata": {},
     "output_type": "execute_result"
    }
   ],
   "source": [
    "ec2cof[ec2cof.cofactor.isin(c)]['ec']"
   ]
  },
  {
   "cell_type": "code",
   "execution_count": 18,
   "id": "senior-coast",
   "metadata": {},
   "outputs": [],
   "source": [
    "ec2cof['ec3'] = ec2cof['ec'].apply(lambda x: \".\".join(x.split('.')[0:3]))"
   ]
  },
  {
   "cell_type": "code",
   "execution_count": 33,
   "id": "controlling-cornwall",
   "metadata": {},
   "outputs": [],
   "source": [
    "ec3_list = ec2cof[ec2cof['cofactor'].isin(c)]['ec3'].unique().tolist()"
   ]
  },
  {
   "cell_type": "code",
   "execution_count": 6,
   "id": "compact-chosen",
   "metadata": {},
   "outputs": [],
   "source": [
    "ecrn = pd.read_csv('ec_rxn_mapping.txt',sep='\\t')"
   ]
  },
  {
   "cell_type": "code",
   "execution_count": 26,
   "id": "aggregate-directory",
   "metadata": {},
   "outputs": [],
   "source": [
    "ecrn['ec3'] = ecrn['ec'].apply(lambda x: \".\".join(x.split('.')[0:3]))"
   ]
  },
  {
   "cell_type": "code",
   "execution_count": 38,
   "id": "valued-pontiac",
   "metadata": {},
   "outputs": [],
   "source": [
    "g  = ecrn[ecrn['ec3'].isin(ec3_list)][['rxn']]"
   ]
  },
  {
   "cell_type": "code",
   "execution_count": 42,
   "id": "ancient-processor",
   "metadata": {},
   "outputs": [],
   "source": [
    "g.rename({'rxn':'rn'},axis=1).to_csv('../reaction_sets/reactions.FeMnCatalyzed.01Feb2021.csv')"
   ]
  },
  {
   "cell_type": "code",
   "execution_count": 14,
   "id": "accepting-bangkok",
   "metadata": {},
   "outputs": [
    {
     "data": {
      "text/html": [
       "<div>\n",
       "<style scoped>\n",
       "    .dataframe tbody tr th:only-of-type {\n",
       "        vertical-align: middle;\n",
       "    }\n",
       "\n",
       "    .dataframe tbody tr th {\n",
       "        vertical-align: top;\n",
       "    }\n",
       "\n",
       "    .dataframe thead th {\n",
       "        text-align: right;\n",
       "    }\n",
       "</style>\n",
       "<table border=\"1\" class=\"dataframe\">\n",
       "  <thead>\n",
       "    <tr style=\"text-align: right;\">\n",
       "      <th></th>\n",
       "      <th>rxn</th>\n",
       "    </tr>\n",
       "    <tr>\n",
       "      <th>ec</th>\n",
       "      <th></th>\n",
       "    </tr>\n",
       "  </thead>\n",
       "  <tbody>\n",
       "    <tr>\n",
       "      <th>3.6.1.10</th>\n",
       "      <td>R00001</td>\n",
       "    </tr>\n",
       "    <tr>\n",
       "      <th>1.18.6.1</th>\n",
       "      <td>R00002</td>\n",
       "    </tr>\n",
       "    <tr>\n",
       "      <th>3.6.1.1</th>\n",
       "      <td>R00004</td>\n",
       "    </tr>\n",
       "    <tr>\n",
       "      <th>3.5.1.54</th>\n",
       "      <td>R00005</td>\n",
       "    </tr>\n",
       "    <tr>\n",
       "      <th>6.3.4.6</th>\n",
       "      <td>R00005</td>\n",
       "    </tr>\n",
       "    <tr>\n",
       "      <th>...</th>\n",
       "      <td>...</td>\n",
       "    </tr>\n",
       "    <tr>\n",
       "      <th>4.2.2.21</th>\n",
       "      <td>R10871</td>\n",
       "    </tr>\n",
       "    <tr>\n",
       "      <th>4.2.2.5</th>\n",
       "      <td>R10872</td>\n",
       "    </tr>\n",
       "    <tr>\n",
       "      <th>4.2.2.20</th>\n",
       "      <td>R10872</td>\n",
       "    </tr>\n",
       "    <tr>\n",
       "      <th>4.2.2.21</th>\n",
       "      <td>R10872</td>\n",
       "    </tr>\n",
       "    <tr>\n",
       "      <th>2.8.2.35</th>\n",
       "      <td>R10873</td>\n",
       "    </tr>\n",
       "  </tbody>\n",
       "</table>\n",
       "<p>10407 rows × 1 columns</p>\n",
       "</div>"
      ],
      "text/plain": [
       "             rxn\n",
       "ec              \n",
       "3.6.1.10  R00001\n",
       "1.18.6.1  R00002\n",
       "3.6.1.1   R00004\n",
       "3.5.1.54  R00005\n",
       "6.3.4.6   R00005\n",
       "...          ...\n",
       "4.2.2.21  R10871\n",
       "4.2.2.5   R10872\n",
       "4.2.2.20  R10872\n",
       "4.2.2.21  R10872\n",
       "2.8.2.35  R10873\n",
       "\n",
       "[10407 rows x 1 columns]"
      ]
     },
     "execution_count": 14,
     "metadata": {},
     "output_type": "execute_result"
    }
   ],
   "source": [
    "ecrn.set_index('ec')"
   ]
  },
  {
   "cell_type": "code",
   "execution_count": 19,
   "id": "american-finder",
   "metadata": {},
   "outputs": [],
   "source": [
    "ec_fe_mn_ec4 = ec2cof[ec2cof.cofactor.isin(c)].set_index('ec').join(ecrn.set_index('ec')).dropna().reset_index()"
   ]
  },
  {
   "cell_type": "code",
   "execution_count": 21,
   "id": "appropriate-watch",
   "metadata": {},
   "outputs": [],
   "source": [
    "ec_fe_mn_ec4.columns = ['ec','cofactor','rn']"
   ]
  },
  {
   "cell_type": "code",
   "execution_count": 22,
   "id": "generous-tucson",
   "metadata": {},
   "outputs": [],
   "source": [
    "ec_fe_mn_ec4.to_csv('../reaction_sets/reactions.EC4.FeMnCatalyzed.15Feb2021.csv')"
   ]
  },
  {
   "cell_type": "code",
   "execution_count": 25,
   "id": "aboriginal-glossary",
   "metadata": {},
   "outputs": [],
   "source": [
    "ec2cof['ec3'] = ec2cof['ec'].apply(lambda x: \".\".join(x.split('.')[0:3]))"
   ]
  },
  {
   "cell_type": "code",
   "execution_count": 31,
   "id": "polar-float",
   "metadata": {},
   "outputs": [
    {
     "data": {
      "text/html": [
       "<div>\n",
       "<style scoped>\n",
       "    .dataframe tbody tr th:only-of-type {\n",
       "        vertical-align: middle;\n",
       "    }\n",
       "\n",
       "    .dataframe tbody tr th {\n",
       "        vertical-align: top;\n",
       "    }\n",
       "\n",
       "    .dataframe thead th {\n",
       "        text-align: right;\n",
       "    }\n",
       "</style>\n",
       "<table border=\"1\" class=\"dataframe\">\n",
       "  <thead>\n",
       "    <tr style=\"text-align: right;\">\n",
       "      <th></th>\n",
       "      <th>ec</th>\n",
       "      <th>cofactor</th>\n",
       "      <th>ec3</th>\n",
       "    </tr>\n",
       "  </thead>\n",
       "  <tbody>\n",
       "    <tr>\n",
       "      <th>1190</th>\n",
       "      <td>3.1.2.30</td>\n",
       "      <td>mg</td>\n",
       "      <td>3.1.2</td>\n",
       "    </tr>\n",
       "    <tr>\n",
       "      <th>1191</th>\n",
       "      <td>3.1.2.30</td>\n",
       "      <td>mn</td>\n",
       "      <td>3.1.2</td>\n",
       "    </tr>\n",
       "  </tbody>\n",
       "</table>\n",
       "</div>"
      ],
      "text/plain": [
       "            ec cofactor    ec3\n",
       "1190  3.1.2.30       mg  3.1.2\n",
       "1191  3.1.2.30       mn  3.1.2"
      ]
     },
     "execution_count": 31,
     "metadata": {},
     "output_type": "execute_result"
    }
   ],
   "source": [
    "ec2cof[ec2cof['ec3'].isin(['3.1.2'])]"
   ]
  },
  {
   "cell_type": "code",
   "execution_count": 32,
   "id": "polar-eleven",
   "metadata": {},
   "outputs": [
    {
     "data": {
      "text/html": [
       "<div>\n",
       "<style scoped>\n",
       "    .dataframe tbody tr th:only-of-type {\n",
       "        vertical-align: middle;\n",
       "    }\n",
       "\n",
       "    .dataframe tbody tr th {\n",
       "        vertical-align: top;\n",
       "    }\n",
       "\n",
       "    .dataframe thead th {\n",
       "        text-align: right;\n",
       "    }\n",
       "</style>\n",
       "<table border=\"1\" class=\"dataframe\">\n",
       "  <thead>\n",
       "    <tr style=\"text-align: right;\">\n",
       "      <th></th>\n",
       "      <th>ec</th>\n",
       "      <th>cofactor</th>\n",
       "      <th>ec3</th>\n",
       "    </tr>\n",
       "  </thead>\n",
       "  <tbody>\n",
       "    <tr>\n",
       "      <th>0</th>\n",
       "      <td>1.1.1.1</td>\n",
       "      <td>zn</td>\n",
       "      <td>1.1.1</td>\n",
       "    </tr>\n",
       "    <tr>\n",
       "      <th>1</th>\n",
       "      <td>1.1.1.2</td>\n",
       "      <td>zn</td>\n",
       "      <td>1.1.1</td>\n",
       "    </tr>\n",
       "    <tr>\n",
       "      <th>2</th>\n",
       "      <td>1.1.1.41</td>\n",
       "      <td>mg</td>\n",
       "      <td>1.1.1</td>\n",
       "    </tr>\n",
       "    <tr>\n",
       "      <th>3</th>\n",
       "      <td>1.1.1.41</td>\n",
       "      <td>mn</td>\n",
       "      <td>1.1.1</td>\n",
       "    </tr>\n",
       "    <tr>\n",
       "      <th>4</th>\n",
       "      <td>1.1.1.42</td>\n",
       "      <td>mg</td>\n",
       "      <td>1.1.1</td>\n",
       "    </tr>\n",
       "    <tr>\n",
       "      <th>...</th>\n",
       "      <td>...</td>\n",
       "      <td>...</td>\n",
       "      <td>...</td>\n",
       "    </tr>\n",
       "    <tr>\n",
       "      <th>1623</th>\n",
       "      <td>6.4.1.6</td>\n",
       "      <td>mg</td>\n",
       "      <td>6.4.1</td>\n",
       "    </tr>\n",
       "    <tr>\n",
       "      <th>1624</th>\n",
       "      <td>6.4.1.7</td>\n",
       "      <td>biotin</td>\n",
       "      <td>6.4.1</td>\n",
       "    </tr>\n",
       "    <tr>\n",
       "      <th>1625</th>\n",
       "      <td>6.4.1.7</td>\n",
       "      <td>mg</td>\n",
       "      <td>6.4.1</td>\n",
       "    </tr>\n",
       "    <tr>\n",
       "      <th>1626</th>\n",
       "      <td>6.5.1.5</td>\n",
       "      <td>mg</td>\n",
       "      <td>6.5.1</td>\n",
       "    </tr>\n",
       "    <tr>\n",
       "      <th>1627</th>\n",
       "      <td>6.6.1.2</td>\n",
       "      <td>co</td>\n",
       "      <td>6.6.1</td>\n",
       "    </tr>\n",
       "  </tbody>\n",
       "</table>\n",
       "<p>1628 rows × 3 columns</p>\n",
       "</div>"
      ],
      "text/plain": [
       "            ec cofactor    ec3\n",
       "0      1.1.1.1       zn  1.1.1\n",
       "1      1.1.1.2       zn  1.1.1\n",
       "2     1.1.1.41       mg  1.1.1\n",
       "3     1.1.1.41       mn  1.1.1\n",
       "4     1.1.1.42       mg  1.1.1\n",
       "...        ...      ...    ...\n",
       "1623   6.4.1.6       mg  6.4.1\n",
       "1624   6.4.1.7   biotin  6.4.1\n",
       "1625   6.4.1.7       mg  6.4.1\n",
       "1626   6.5.1.5       mg  6.5.1\n",
       "1627   6.6.1.2       co  6.6.1\n",
       "\n",
       "[1628 rows x 3 columns]"
      ]
     },
     "execution_count": 32,
     "metadata": {},
     "output_type": "execute_result"
    }
   ],
   "source": [
    "ec2cof[ec2cof['ec3'].isin(['3.1.2'])]"
   ]
  },
  {
   "cell_type": "code",
   "execution_count": null,
   "id": "seventh-verse",
   "metadata": {},
   "outputs": [],
   "source": []
  }
 ],
 "metadata": {
  "kernelspec": {
   "display_name": "Python (network expansion)",
   "language": "python",
   "name": "network_expansion"
  },
  "language_info": {
   "codemirror_mode": {
    "name": "ipython",
    "version": 3
   },
   "file_extension": ".py",
   "mimetype": "text/x-python",
   "name": "python",
   "nbconvert_exporter": "python",
   "pygments_lexer": "ipython3",
   "version": "3.8.5"
  }
 },
 "nbformat": 4,
 "nbformat_minor": 5
}
