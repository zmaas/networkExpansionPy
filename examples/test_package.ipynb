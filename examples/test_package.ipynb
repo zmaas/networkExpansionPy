{
 "cells": [
  {
   "cell_type": "code",
   "execution_count": 1,
   "metadata": {},
   "outputs": [],
   "source": [
    "import networkExpansionPy.lib as ne"
   ]
  },
  {
   "cell_type": "code",
   "execution_count": 2,
   "metadata": {},
   "outputs": [],
   "source": [
    "from scipy.sparse import csr_matrix\n",
    "import numpy as np"
   ]
  },
  {
   "cell_type": "code",
   "execution_count": 3,
   "metadata": {},
   "outputs": [],
   "source": [
    "metabolism = ne.GlobalMetabolicNetwork()"
   ]
  },
  {
   "cell_type": "code",
   "execution_count": 4,
   "metadata": {},
   "outputs": [],
   "source": [
    "metabolism.pruneUnbalancedReactions()\n",
    "metabolism.set_ph(7.0)\n",
    "metabolism.convertToIrreversible()\n",
    "metabolism.setMetaboliteBounds(ub=1e-1,lb=1e-6)\n",
    "metabolism.pruneThermodynamicallyInfeasibleReactions(keepnan=False)"
   ]
  },
  {
   "cell_type": "code",
   "execution_count": 5,
   "metadata": {},
   "outputs": [],
   "source": [
    "# construct params for network expansion\n",
    "network = metabolism.network.pivot_table(index='cid',columns = ['rn','direction'],values='s').fillna(0)\n",
    "S = network.values\n",
    "R = (S < 0)*1\n",
    "P = (S > 0)*1\n",
    "b = sum(R)\n",
    "\n",
    "# sparsefy data\n",
    "R = csr_matrix(R)\n",
    "P = csr_matrix(P)\n",
    "b = csr_matrix(b)\n",
    "b = b.transpose()"
   ]
  },
  {
   "cell_type": "code",
   "execution_count": 6,
   "metadata": {},
   "outputs": [
    {
     "name": "stderr",
     "output_type": "stream",
     "text": [
      "/Users/joshuagoldford/miniconda2/envs/network_expansion/lib/python3.6/site-packages/scipy/sparse/compressed.py:226: SparseEfficiencyWarning: Comparing sparse matrices using == is inefficient, try using != instead.\n",
      "  \" != instead.\", SparseEfficiencyWarning)\n"
     ]
    }
   ],
   "source": [
    "seedSet = ['C00001','C00011','C00080','C00014','C00009','C00283']\n",
    "x0 = np.array([x in seedSet for x in network.index.get_level_values(0)]) * 1\n",
    "x0 = csr_matrix(x0)\n",
    "x0 = x0.transpose()\n",
    "met_trace,reaction_trace = ne.netExp_trace(R,P,x0,b)"
   ]
  },
  {
   "cell_type": "code",
   "execution_count": 7,
   "metadata": {},
   "outputs": [
    {
     "data": {
      "text/plain": [
       "[[], <6417x1 sparse matrix of type '<class 'numpy.int64'>'\n",
       " \twith 2 stored elements in Compressed Sparse Column format>, <6417x1 sparse matrix of type '<class 'numpy.int64'>'\n",
       " \twith 5 stored elements in Compressed Sparse Column format>, <6417x1 sparse matrix of type '<class 'numpy.int64'>'\n",
       " \twith 6 stored elements in Compressed Sparse Column format>]"
      ]
     },
     "execution_count": 7,
     "metadata": {},
     "output_type": "execute_result"
    }
   ],
   "source": [
    "reaction_trace"
   ]
  },
  {
   "cell_type": "code",
   "execution_count": null,
   "metadata": {},
   "outputs": [],
   "source": []
  }
 ],
 "metadata": {
  "kernelspec": {
   "display_name": "Python (network expansion)",
   "language": "python",
   "name": "network_expansion"
  },
  "language_info": {
   "codemirror_mode": {
    "name": "ipython",
    "version": 3
   },
   "file_extension": ".py",
   "mimetype": "text/x-python",
   "name": "python",
   "nbconvert_exporter": "python",
   "pygments_lexer": "ipython3",
   "version": "3.6.2"
  }
 },
 "nbformat": 4,
 "nbformat_minor": 2
}
