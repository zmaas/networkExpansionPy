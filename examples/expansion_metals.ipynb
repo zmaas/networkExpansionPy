{
 "cells": [
  {
   "cell_type": "code",
   "execution_count": 1,
   "id": "equal-branch",
   "metadata": {},
   "outputs": [],
   "source": [
    "import networkExpansionPy.lib as ne\n",
    "from scipy.sparse import csr_matrix\n",
    "import numpy as np\n",
    "from random import sample\n",
    "import pandas as pd\n",
    "\n",
    "#from copy import copy, deepcopy\n",
    "import random\n",
    "import seaborn as sns\n",
    "from matplotlib_venn import venn2\n"
   ]
  },
  {
   "cell_type": "code",
   "execution_count": 3,
   "id": "passive-canada",
   "metadata": {},
   "outputs": [],
   "source": [
    "df = pd.read_csv('../networkExpansionPy/assets/KEGG/rn2metal.csv')"
   ]
  },
  {
   "cell_type": "code",
   "execution_count": 26,
   "id": "naked-seeker",
   "metadata": {},
   "outputs": [],
   "source": [
    "#df.metal.unique()"
   ]
  },
  {
   "cell_type": "code",
   "execution_count": 9,
   "id": "english-question",
   "metadata": {},
   "outputs": [],
   "source": [
    "rns = df[df['metal'].isin(['fe','fes','fes_4Fe_4S','fes_2Fe_2S','fes_3Fe_4S','mn'])].rxns.tolist()"
   ]
  },
  {
   "cell_type": "code",
   "execution_count": 10,
   "id": "funky-twelve",
   "metadata": {},
   "outputs": [],
   "source": [
    "metabolism = ne.GlobalMetabolicNetwork()\n",
    "#metabolism.pruneUnbalancedReactions()\n",
    "#metabolism.pruneInconsistentReactions()\n",
    "#metabolism.set_ph(7.0)\n",
    "metabolism.convertToIrreversible()\n",
    "oxygen_dependent_rxns = metabolism.network[metabolism.network.cid.isin(['C00007'])].rn.unique().tolist()\n",
    "o2_independent_rxns = [x for x in metabolism.network.rn.unique().tolist() if x not in oxygen_dependent_rxns]\n",
    "# only keep anaerobic reactions\n",
    "metabolism.subnetwork(o2_independent_rxns)\n",
    "metabolism.subnetwork(rns)\n",
    "\n",
    "#metabolism.setMetaboliteBounds(ub=1e-1,lb=1e-6)\n",
    "#metabolism.pruneThermodynamicallyInfeasibleReactions(keepnan=False)"
   ]
  },
  {
   "cell_type": "code",
   "execution_count": 15,
   "id": "friendly-attempt",
   "metadata": {},
   "outputs": [
    {
     "data": {
      "text/plain": [
       "756"
      ]
     },
     "execution_count": 15,
     "metadata": {},
     "output_type": "execute_result"
    }
   ],
   "source": [
    "len(metabolism.network.cid.unique().tolist())"
   ]
  },
  {
   "cell_type": "code",
   "execution_count": 16,
   "id": "funny-warrior",
   "metadata": {},
   "outputs": [],
   "source": [
    "# define seed compounds\n",
    "cpds = pd.read_csv('/Users/joshuagoldford/Documents/github/networkExpansionPy/networkExpansionPy/assets/compounds/seeds.csv')\n",
    "cpds['CID'] = cpds['CID'].apply(lambda x: x.strip())"
   ]
  },
  {
   "cell_type": "code",
   "execution_count": 22,
   "id": "scientific-possibility",
   "metadata": {},
   "outputs": [],
   "source": [
    "seedset = set(cpds['CID'].tolist())"
   ]
  },
  {
   "cell_type": "code",
   "execution_count": 23,
   "id": "improving-mixture",
   "metadata": {},
   "outputs": [
    {
     "name": "stderr",
     "output_type": "stream",
     "text": [
      "/Users/joshuagoldford/Documents/github/networkExpansionPy/networkExpansionPy/lib.py:181: SparseEfficiencyWarning: Comparing sparse matrices using == is inefficient, try using != instead.\n",
      "  x,y = netExp(R,P,x0,b)\n"
     ]
    }
   ],
   "source": [
    "ne_cpds,ne_rxns = metabolism.expand(seedset)"
   ]
  },
  {
   "cell_type": "code",
   "execution_count": 24,
   "id": "metallic-sensitivity",
   "metadata": {},
   "outputs": [
    {
     "data": {
      "text/plain": [
       "56"
      ]
     },
     "execution_count": 24,
     "metadata": {},
     "output_type": "execute_result"
    }
   ],
   "source": [
    "len(ne_cpds)"
   ]
  },
  {
   "cell_type": "code",
   "execution_count": 25,
   "id": "graduate-medicare",
   "metadata": {},
   "outputs": [
    {
     "data": {
      "text/plain": [
       "44"
      ]
     },
     "execution_count": 25,
     "metadata": {},
     "output_type": "execute_result"
    }
   ],
   "source": [
    "len(seedset)"
   ]
  },
  {
   "cell_type": "code",
   "execution_count": null,
   "id": "egyptian-duration",
   "metadata": {},
   "outputs": [],
   "source": []
  }
 ],
 "metadata": {
  "kernelspec": {
   "display_name": "Python (network_expansion3)",
   "language": "python",
   "name": "network_expansion3"
  },
  "language_info": {
   "codemirror_mode": {
    "name": "ipython",
    "version": 3
   },
   "file_extension": ".py",
   "mimetype": "text/x-python",
   "name": "python",
   "nbconvert_exporter": "python",
   "pygments_lexer": "ipython3",
   "version": "3.8.5"
  }
 },
 "nbformat": 4,
 "nbformat_minor": 5
}
